{
  "nbformat": 4,
  "nbformat_minor": 0,
  "metadata": {
    "colab": {
      "provenance": []
    },
    "kernelspec": {
      "name": "python3",
      "display_name": "Python 3"
    },
    "language_info": {
      "name": "python"
    }
  },
  "cells": [
    {
      "cell_type": "code",
      "source": [
        "import numpy as np\n",
        "\n",
        "# Creating a NumPy array\n",
        "arr = np.array([1, 2, 3, 4, 5])\n",
        "\n",
        "# Performing some operations\n",
        "mean = np.mean(arr)\n",
        "print(\"Mean:\", mean)\n",
        "\n",
        "# Creating a 2D array\n",
        "matrix = np.array([[1, 2, 3], [4, 5, 6], [7, 8, 9]])\n",
        "\n",
        "# Accessing elements\n",
        "print(\"Element at row 2, column 3:\", matrix[1, 2])\n"
      ],
      "metadata": {
        "colab": {
          "base_uri": "https://localhost:8080/"
        },
        "id": "6ZgBuhp2TGgn",
        "outputId": "01cb1fd7-4c00-4ddb-de34-58641fa13e40"
      },
      "execution_count": 7,
      "outputs": [
        {
          "output_type": "stream",
          "name": "stdout",
          "text": [
            "Mean: 3.0\n",
            "Element at row 2, column 3: 6\n"
          ]
        }
      ]
    },
    {
      "cell_type": "code",
      "execution_count": 2,
      "metadata": {
        "colab": {
          "base_uri": "https://localhost:8080/",
          "height": 0
        },
        "id": "XFjTfzjyRgT3",
        "outputId": "3ef63a09-5b74-4101-e2a6-b2641b09fa8f"
      },
      "outputs": [
        {
          "output_type": "stream",
          "name": "stdout",
          "text": [
            "Enter the number of rows: 2\n",
            "Enter the number of columns: 2\n",
            "Enter values for matrix1:\n",
            "Matrix1[0][0]: 3\n",
            "Matrix1[0][1]: 4\n",
            "Matrix1[1][0]: 5\n",
            "Matrix1[1][1]: 6\n",
            "Enter values for matrix2:\n",
            "Matrix2[0][0]: 1\n",
            "Matrix2[0][1]: 2\n",
            "Matrix2[1][0]: 7\n",
            "Matrix2[1][1]: 9\n",
            "\n",
            "Matrix Addition:\n",
            "[[ 4.  6.]\n",
            " [12. 15.]]\n",
            "\n",
            "Matrix Subtraction:\n",
            "[[ 2.  2.]\n",
            " [-2. -3.]]\n",
            "\n",
            "Matrix Division:\n",
            "[[3.         2.        ]\n",
            " [0.71428571 0.66666667]]\n",
            "\n",
            "Matrix Multiplication:\n",
            "[[31. 42.]\n",
            " [47. 64.]]\n"
          ]
        }
      ],
      "source": [
        "import numpy as np\n",
        "\n",
        "# Get matrix size from user\n",
        "rows = int(input(\"Enter the number of rows: \"))\n",
        "cols = int(input(\"Enter the number of columns: \"))\n",
        "\n",
        "# Initialize matrices\n",
        "matrix1 = np.zeros((rows, cols))\n",
        "matrix2 = np.zeros((rows, cols))\n",
        "\n",
        "# Input values for matrix1\n",
        "print(\"Enter values for matrix1:\")\n",
        "for i in range(rows):\n",
        "    for j in range(cols):\n",
        "        matrix1[i][j] = float(input(f\"Matrix1[{i}][{j}]: \"))\n",
        "\n",
        "# Input values for matrix2\n",
        "print(\"Enter values for matrix2:\")\n",
        "for i in range(rows):\n",
        "    for j in range(cols):\n",
        "        matrix2[i][j] = float(input(f\"Matrix2[{i}][{j}]: \"))\n",
        "\n",
        "# Perform operations\n",
        "addition = matrix1 + matrix2\n",
        "subtraction = matrix1 - matrix2\n",
        "# Avoid division by zero\n",
        "matrix2_non_zero = np.where(matrix2 == 0, 1, matrix2)\n",
        "division = matrix1 / matrix2_non_zero\n",
        "multiplication = np.dot(matrix1, matrix2)\n",
        "\n",
        "# Print results\n",
        "print(\"\\nMatrix Addition:\")\n",
        "print(addition)\n",
        "print(\"\\nMatrix Subtraction:\")\n",
        "print(subtraction)\n",
        "print(\"\\nMatrix Division:\")\n",
        "print(division)\n",
        "print(\"\\nMatrix Multiplication:\")\n",
        "print(multiplication)\n"
      ]
    },
    {
      "cell_type": "code",
      "source": [
        "import numpy as np\n",
        "\n",
        "# Define a matrix\n",
        "matrix = np.array([[1, 2, 3],\n",
        "                   [4, 5, 6],\n",
        "                   [7, 8, 9]])\n",
        "\n",
        "# Transpose of the matrix\n",
        "transpose_matrix = np.transpose(matrix)\n",
        "print(\"Transpose Matrix:\")\n",
        "print(transpose_matrix)\n",
        "\n",
        "# Inverse of the matrix\n",
        "try:\n",
        "    inverse_matrix = np.linalg.inv(matrix)\n",
        "    print(\"Inverse Matrix:\")\n",
        "    print(inverse_matrix)\n",
        "except np.linalg.LinAlgError:\n",
        "    print(\"The matrix is singular, and its inverse does not exist.\")\n",
        "\n",
        "# Identity matrix\n",
        "identity_matrix = np.identity(3)  # 3x3 identity matrix\n",
        "print(\"Identity Matrix:\")\n",
        "print(identity_matrix)\n"
      ],
      "metadata": {
        "colab": {
          "base_uri": "https://localhost:8080/"
        },
        "id": "5YCrosoYUQNJ",
        "outputId": "fdff4b6f-4ac4-4c52-80ac-7605bc2739f3"
      },
      "execution_count": 8,
      "outputs": [
        {
          "output_type": "stream",
          "name": "stdout",
          "text": [
            "Transpose Matrix:\n",
            "[[1 4 7]\n",
            " [2 5 8]\n",
            " [3 6 9]]\n",
            "The matrix is singular, and its inverse does not exist.\n",
            "Identity Matrix:\n",
            "[[1. 0. 0.]\n",
            " [0. 1. 0.]\n",
            " [0. 0. 1.]]\n"
          ]
        }
      ]
    },
    {
      "cell_type": "code",
      "source": [
        "from PIL import Image\n",
        "import numpy as np\n",
        "\n",
        "# Open an image file\n",
        "image_path = '/content/a.png'  # Replace with the actual path to your image\n",
        "image = Image.open(image_path)\n",
        "\n",
        "# Convert image to NumPy array\n",
        "image_array = np.array(image)\n",
        "\n",
        "# Get the size of the image (height and width)\n",
        "image_size = image_array.shape\n",
        "height, width, channels = image_size\n",
        "\n",
        "print(\"Image Size:\")\n",
        "print(f\"Height: {height} pixels\")\n",
        "print(f\"Width: {width} pixels\")\n",
        "print(f\"Channels: {channels} channels\")\n",
        "\n",
        "# Display the image size\n",
        "image.show()  # Opens the default image viewer to display the image\n",
        "\n"
      ],
      "metadata": {
        "colab": {
          "base_uri": "https://localhost:8080/"
        },
        "id": "68BzOzqIUrcM",
        "outputId": "dcba0e4e-3e95-4b94-9582-9783fead1a9c"
      },
      "execution_count": 10,
      "outputs": [
        {
          "output_type": "stream",
          "name": "stdout",
          "text": [
            "Image Size:\n",
            "Height: 494 pixels\n",
            "Width: 346 pixels\n",
            "Channels: 4 channels\n"
          ]
        }
      ]
    },
    {
      "cell_type": "code",
      "source": [
        "from PIL import Image\n",
        "import numpy as np\n",
        "\n",
        "def compress_svd(image_path, num_components):\n",
        "    # Load the image and convert to grayscale\n",
        "    image = Image.open(image_path).convert('L')\n",
        "    image_array = np.array(image)\n",
        "\n",
        "    # Perform SVD on the image\n",
        "    U, S, Vt = np.linalg.svd(image_array, full_matrices=False)\n",
        "\n",
        "    # Keep only the desired number of singular values/components\n",
        "    U = U[:, :num_components]\n",
        "    S = np.diag(S[:num_components])\n",
        "    Vt = Vt[:num_components, :]\n",
        "\n",
        "    # Reconstruct the compressed image\n",
        "    compressed_image_array = np.dot(U, np.dot(S, Vt))\n",
        "\n",
        "    # Convert back to image\n",
        "    compressed_image = Image.fromarray(compressed_image_array.astype('uint8'))\n",
        "\n",
        "    return compressed_image\n",
        "\n",
        "# Path to the input image\n",
        "input_image_path = '/content/a.png'  # Replace with the actual path\n",
        "\n",
        "# Number of components (singular values) to keep for compression\n",
        "num_components = 50  # Adjust this value to control compression quality\n",
        "\n",
        "# Compress the image\n",
        "compressed_image = compress_svd(input_image_path, num_components)\n",
        "\n",
        "# Save the compressed image\n",
        "compressed_image.save('compressed_image.jpg')\n",
        "\n",
        "# Display the original and compressed images\n",
        "Image.open(input_image_path).show()\n",
        "compressed_image.show()\n"
      ],
      "metadata": {
        "id": "TIXQl2QFVlPB"
      },
      "execution_count": 11,
      "outputs": []
    },
    {
      "cell_type": "code",
      "source": [
        "from PIL import Image\n",
        "import numpy as np\n",
        "\n",
        "def recover_image(image_path, num_components):\n",
        "    # Load the image and convert to grayscale\n",
        "    image = Image.open(image_path).convert('L')\n",
        "    image_array = np.array(image)\n",
        "\n",
        "    # Perform SVD on the image\n",
        "    U, S, Vt = np.linalg.svd(image_array, full_matrices=False)\n",
        "\n",
        "    # Keep only the desired number of singular values/components\n",
        "    U = U[:, :num_components]\n",
        "    S = np.diag(S[:num_components])\n",
        "    Vt = Vt[:num_components, :]\n",
        "\n",
        "    # Reconstruct the compressed image\n",
        "    recovered_image_array = np.dot(U, np.dot(S, Vt))\n",
        "\n",
        "    # Clip values to the valid range [0, 255]\n",
        "    recovered_image_array = np.clip(recovered_image_array, 0, 255)\n",
        "\n",
        "    # Convert back to image\n",
        "    recovered_image = Image.fromarray(recovered_image_array.astype('uint8'))\n",
        "\n",
        "    return recovered_image\n",
        "\n",
        "# Path to the input image\n",
        "input_image_path = '/content/compressed_image.jpg'  # Replace with the actual path\n",
        "\n",
        "# Number of components (singular values) to keep for recovery\n",
        "num_components = 50  # Adjust this value to control recovery quality\n",
        "\n",
        "# Recover the image\n",
        "recovered_image = recover_image(input_image_path, num_components)\n",
        "\n",
        "# Save the recovered image\n",
        "recovered_image.save('recovered_image.jpg')\n",
        "\n",
        "# Display the original and recovered images\n",
        "Image.open(input_image_path).show()\n",
        "recovered_image.show()\n"
      ],
      "metadata": {
        "id": "E2P529SMXAEb"
      },
      "execution_count": 12,
      "outputs": []
    },
    {
      "cell_type": "code",
      "source": [
        "import numpy as np\n",
        "\n",
        "# Create a sample matrix\n",
        "A = np.array([[1, 2],\n",
        "              [3, 4],\n",
        "              [5, 6]])\n",
        "\n",
        "# Perform full SVD\n",
        "U, S, Vt = np.linalg.svd(A, full_matrices=True)\n",
        "\n",
        "print(\"Matrix U:\")\n",
        "print(U)\n",
        "print(\"Diagonal matrix Σ:\")\n",
        "print(S)\n",
        "print(\"Matrix V^T:\")\n",
        "print(Vt)\n"
      ],
      "metadata": {
        "colab": {
          "base_uri": "https://localhost:8080/"
        },
        "id": "SXIip1K7X7RP",
        "outputId": "e2bc2b6d-36bc-45d3-eac7-c9cd1239b941"
      },
      "execution_count": 13,
      "outputs": [
        {
          "output_type": "stream",
          "name": "stdout",
          "text": [
            "Matrix U:\n",
            "[[-0.2298477   0.88346102  0.40824829]\n",
            " [-0.52474482  0.24078249 -0.81649658]\n",
            " [-0.81964194 -0.40189603  0.40824829]]\n",
            "Diagonal matrix Σ:\n",
            "[9.52551809 0.51430058]\n",
            "Matrix V^T:\n",
            "[[-0.61962948 -0.78489445]\n",
            " [-0.78489445  0.61962948]]\n"
          ]
        }
      ]
    },
    {
      "cell_type": "code",
      "source": [
        "import numpy as np\n",
        "\n",
        "# Create a sample matrix\n",
        "A = np.array([[1, 2],\n",
        "              [3, 4],\n",
        "              [5, 6]])\n",
        "\n",
        "# Perform truncated SVD\n",
        "k = 1  # Number of singular values to keep\n",
        "U, S, Vt = np.linalg.svd(A, full_matrices=False)\n",
        "Uk = U[:, :k]\n",
        "Sk = np.diag(S[:k])\n",
        "Vtk = Vt[:k, :]\n",
        "\n",
        "# Reconstruct the matrix\n",
        "A_approx = np.dot(Uk, np.dot(Sk, Vtk))\n",
        "\n",
        "print(\"Original Matrix:\")\n",
        "print(A)\n",
        "print(\"Approximated Matrix:\")\n",
        "print(A_approx)\n"
      ],
      "metadata": {
        "colab": {
          "base_uri": "https://localhost:8080/"
        },
        "id": "hpxvmKEJX8Fy",
        "outputId": "cb88fecf-ff9c-4767-bb7b-345a0309d8b3"
      },
      "execution_count": 14,
      "outputs": [
        {
          "output_type": "stream",
          "name": "stdout",
          "text": [
            "Original Matrix:\n",
            "[[1 2]\n",
            " [3 4]\n",
            " [5 6]]\n",
            "Approximated Matrix:\n",
            "[[1.35662819 1.71846235]\n",
            " [3.09719707 3.92326845]\n",
            " [4.83776596 6.12807454]]\n"
          ]
        }
      ]
    },
    {
      "cell_type": "code",
      "source": [
        "import numpy as np\n",
        "\n",
        "# Create a sample matrix\n",
        "A = np.array([[1, 2],\n",
        "              [3, 4],\n",
        "              [5, 6]])\n",
        "\n",
        "# Perform economy SVD\n",
        "k = 1  # Number of singular values to keep\n",
        "U, S, _ = np.linalg.svd(A, full_matrices=False)\n",
        "\n",
        "# Keep only the first k columns of U and the first k singular values of S\n",
        "Uk = U[:, :k]\n",
        "Sk = np.diag(S[:k])\n",
        "\n",
        "# Reconstruct the matrix\n",
        "A_approx = np.dot(Uk, Sk)\n",
        "\n",
        "print(\"Original Matrix:\")\n",
        "print(A)\n",
        "print(\"Approximated Matrix:\")\n",
        "print(A_approx)\n"
      ],
      "metadata": {
        "colab": {
          "base_uri": "https://localhost:8080/"
        },
        "id": "3Vre_i8hX8kg",
        "outputId": "692c873d-9fc4-414f-d47b-337efa64e560"
      },
      "execution_count": 15,
      "outputs": [
        {
          "output_type": "stream",
          "name": "stdout",
          "text": [
            "Original Matrix:\n",
            "[[1 2]\n",
            " [3 4]\n",
            " [5 6]]\n",
            "Approximated Matrix:\n",
            "[[-2.18941839]\n",
            " [-4.99846626]\n",
            " [-7.80751414]]\n"
          ]
        }
      ]
    }
  ]
}