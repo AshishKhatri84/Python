{
  "nbformat": 4,
  "nbformat_minor": 0,
  "metadata": {
    "colab": {
      "provenance": []
    },
    "kernelspec": {
      "name": "python3",
      "display_name": "Python 3"
    },
    "language_info": {
      "name": "python"
    }
  },
  "cells": [
    {
      "cell_type": "markdown",
      "source": [
        "# __Frozen Lake Problem Using Q Learning__ #"
      ],
      "metadata": {
        "id": "-nr8DYeRObEe"
      }
    },
    {
      "cell_type": "markdown",
      "source": [
        "## **1. Importing Required Libraries**"
      ],
      "metadata": {
        "id": "4UDjnpCOGtAQ"
      }
    },
    {
      "cell_type": "code",
      "source": [
        "import numpy as np                 # For matrix operations, initializing the Q-table\n",
        "import matplotlib.pyplot as plt    # For visualizing the grid and the learned path\n",
        "import random                      # To generate random holes and explore different actions"
      ],
      "metadata": {
        "id": "3OYlyhwxGyE-"
      },
      "execution_count": 147,
      "outputs": []
    },
    {
      "cell_type": "markdown",
      "source": [
        "## **2. Defining Environment Parameters**"
      ],
      "metadata": {
        "id": "qMejtdVuHIGY"
      }
    },
    {
      "cell_type": "code",
      "source": [
        "GRID_SIZE = 4      # 4x4 Grid\n",
        "ALPHA = 0.1        # Learning rate (how much new information overrides old knowledge)\n",
        "GAMMA = 0.9        # Discount factor (how much future rewards are considered)\n",
        "EPSILON = 0.1      # Exploration rate (probability of taking a random action)\n",
        "EPISODES = 500     # Number of training iterations"
      ],
      "metadata": {
        "id": "3D9uYJLJHK5a"
      },
      "execution_count": 148,
      "outputs": []
    },
    {
      "cell_type": "markdown",
      "source": [
        "## **3. Initializing the Q-Table**"
      ],
      "metadata": {
        "id": "9PsUfCEfHioM"
      }
    },
    {
      "cell_type": "code",
      "source": [
        "q_table = np.zeros((GRID_SIZE, GRID_SIZE, 4))  # 4 actions (up, down, left, right)\n",
        "\n",
        "# A Q-table is initialized with zeros. It stores the expected reward for each state and action."
      ],
      "metadata": {
        "id": "95OvDysIH1K2"
      },
      "execution_count": 149,
      "outputs": []
    },
    {
      "cell_type": "markdown",
      "source": [
        "## **4. Defining Actions**"
      ],
      "metadata": {
        "id": "8tK0e-RnIEmg"
      }
    },
    {
      "cell_type": "code",
      "source": [
        "actions = [(0, -1), (0, 1), (-1, 0), (1, 0)]   # Actions: [up, down, left, right]"
      ],
      "metadata": {
        "id": "2yZjNbMHIIph"
      },
      "execution_count": 150,
      "outputs": []
    },
    {
      "cell_type": "markdown",
      "source": [
        "## **5. Creating the Grid (Rewards & Obstacles)**"
      ],
      "metadata": {
        "id": "sD_t1e4hISRt"
      }
    },
    {
      "cell_type": "code",
      "source": [
        "goal = (3, 3)    # Goal position\n",
        "start = (0, 0)   # Start position"
      ],
      "metadata": {
        "id": "q6sDrUmIIW2v"
      },
      "execution_count": 151,
      "outputs": []
    },
    {
      "cell_type": "markdown",
      "source": [
        "**Generating Random Holes**"
      ],
      "metadata": {
        "id": "x9EyvjsJIdZM"
      }
    },
    {
      "cell_type": "code",
      "source": [
        "num_holes = 3\n",
        "holes = set()\n",
        "while len(holes) < num_holes:\n",
        "    hole = (random.randint(0, GRID_SIZE - 1), random.randint(0, GRID_SIZE - 1))\n",
        "    if hole != start and hole != goal:\n",
        "        holes.add(hole)\n",
        "holes = list(holes)"
      ],
      "metadata": {
        "id": "g1g2L-CFIlFw"
      },
      "execution_count": 152,
      "outputs": []
    },
    {
      "cell_type": "markdown",
      "source": [
        "**Setting Rewards**"
      ],
      "metadata": {
        "id": "-VViGx-wIxdj"
      }
    },
    {
      "cell_type": "code",
      "source": [
        "reward_grid = np.full((GRID_SIZE, GRID_SIZE), -1)      # Default reward is -1\n",
        "reward_grid[goal] = 100                                # Goal reward is 100\n",
        "for hole in holes:\n",
        "    reward_grid[hole] = -100                           # Falling into hole penalty is -100"
      ],
      "metadata": {
        "id": "GDs4FJBJI3Wa"
      },
      "execution_count": 153,
      "outputs": []
    },
    {
      "cell_type": "markdown",
      "source": [
        "## **6. Function to Check Valid Moves**"
      ],
      "metadata": {
        "id": "wkngxD83JILH"
      }
    },
    {
      "cell_type": "code",
      "source": [
        "def is_valid_state(x, y):\n",
        "    return 0 <= x < GRID_SIZE and 0 <= y < GRID_SIZE and (x, y) not in holes    # Ensures moves stay within grid bounds and avoid holes."
      ],
      "metadata": {
        "id": "j0HIu5_CJRaf"
      },
      "execution_count": 154,
      "outputs": []
    },
    {
      "cell_type": "markdown",
      "source": [
        "## **7. Choosing an Action (Exploration vs Exploitation)**"
      ],
      "metadata": {
        "id": "ONnbiSszJaUc"
      }
    },
    {
      "cell_type": "code",
      "source": [
        "def choose_action(state):\n",
        "    if random.uniform(0, 1) < EPSILON:    # Exploration (EPSILON = 0.1 → 10% of the time, chooses a random action)\n",
        "        return random.randint(0, 3)\n",
        "    else:\n",
        "        x, y = state                      # Exploitation (90% of the time, selects the best action from the Q-table)\n",
        "        return np.argmax(q_table[x, y])"
      ],
      "metadata": {
        "id": "bfdoW2RxJiER"
      },
      "execution_count": 155,
      "outputs": []
    },
    {
      "cell_type": "markdown",
      "source": [
        "## **8. Training the Agent (Q-Learning Algorithm)**"
      ],
      "metadata": {
        "id": "6SPUr1HeKIZP"
      }
    },
    {
      "cell_type": "code",
      "source": [
        "for episode in range(EPISODES):              # Loop through each episode (500)\n",
        "    state = start                            # Initialize agent at the start position (0,0)\n",
        "    while state != goal:\n",
        "        x, y = state\n",
        "        action = choose_action(state)        # Select an action\n",
        "        dx, dy = actions[action]\n",
        "        next_state = (x + dx, y + dy)        # Move to the next state based on the action\n",
        "\n",
        "        if not is_valid_state(*next_state):  # Check if the new state is valid\n",
        "            next_state = state               # Stay in place if invalid\n",
        "\n",
        "        reward = reward_grid[next_state]     # Update the Q-value using the Q-learning formula\n",
        "        next_x, next_y = next_state\n",
        "        q_table[x, y, action] += ALPHA * (reward + GAMMA * np.max(q_table[next_x, next_y]) - q_table[x, y, action])     # Q-learning Formula\n",
        "\n",
        "        state = next_state\n",
        "\n",
        "# Repeating until reaching the goal"
      ],
      "metadata": {
        "id": "d3_9Qr0YKOTr"
      },
      "execution_count": 156,
      "outputs": []
    },
    {
      "cell_type": "markdown",
      "source": [
        "## **9. Displaying the Q-Table**"
      ],
      "metadata": {
        "id": "719X6nJbMcPc"
      }
    },
    {
      "cell_type": "code",
      "source": [
        "print(\"Q-Table after Training:\")\n",
        "for i in range(GRID_SIZE):\n",
        "    for j in range(GRID_SIZE):\n",
        "        print(f\"State ({i}, {j}): {q_table[i, j]}\")     # Prints learned Q-values for each state\n",
        "    print()"
      ],
      "metadata": {
        "id": "BLnEEEFiMhk8",
        "colab": {
          "base_uri": "https://localhost:8080/"
        },
        "outputId": "dab8ac0c-1d4c-43fb-d6a9-25f40cbcf7b6"
      },
      "execution_count": 157,
      "outputs": [
        {
          "output_type": "stream",
          "name": "stdout",
          "text": [
            "Q-Table after Training:\n",
            "State (0, 0): [32.39159968 54.9539     36.64022159 33.54806838]\n",
            "State (0, 1): [24.97277774  9.7700751  37.59706531 62.171     ]\n",
            "State (0, 2): [-0.74726659 27.48339478  0.02869466 -0.62385947]\n",
            "State (0, 3): [ 1.33657811 -0.48792052 -0.3940399  54.3444554 ]\n",
            "\n",
            "State (1, 0): [ 3.69084049 59.71695923  3.8146901   3.69084049]\n",
            "State (1, 1): [36.33910926 38.52008686 30.73864783 70.19      ]\n",
            "State (1, 2): [0. 0. 0. 0.]\n",
            "State (1, 3): [ 4.71567815  5.75260372 -0.23384893 83.97143629]\n",
            "\n",
            "State (2, 0): [0. 0. 0. 0.]\n",
            "State (2, 1): [42.75956964 79.1        54.91427745 27.85782048]\n",
            "State (2, 2): [49.69812473 89.         58.94386326 45.8060994 ]\n",
            "State (2, 3): [ 48.41586278  57.93273191  30.4278227  100.        ]\n",
            "\n",
            "State (3, 0): [0. 0. 0. 0.]\n",
            "State (3, 1): [0. 0. 0. 0.]\n",
            "State (3, 2): [-0.1       83.3228183  0.         4.117031 ]\n",
            "State (3, 3): [0. 0. 0. 0.]\n",
            "\n"
          ]
        }
      ]
    },
    {
      "cell_type": "markdown",
      "source": [
        "## **10. Extracting the Shortest Path**"
      ],
      "metadata": {
        "id": "-qiu0kIcMrW2"
      }
    },
    {
      "cell_type": "code",
      "source": [
        "path = []                          # Extracts the best path from the learned Q-table\n",
        "state = start\n",
        "visited = set()\n",
        "while state != goal:\n",
        "    if state in visited:\n",
        "        break\n",
        "    visited.add(state)\n",
        "    x, y = state\n",
        "    action = np.argmax(q_table[x, y])\n",
        "    dx, dy = actions[action]\n",
        "    next_state = (x + dx, y + dy)\n",
        "    if next_state == state or not is_valid_state(*next_state):\n",
        "        break\n",
        "    path.append(next_state)\n",
        "    state = next_state"
      ],
      "metadata": {
        "id": "4uutq9hWMxSV"
      },
      "execution_count": 158,
      "outputs": []
    },
    {
      "cell_type": "markdown",
      "source": [
        "## **11. Visualizing the Grid**"
      ],
      "metadata": {
        "id": "XUKs89MDM7-f"
      }
    },
    {
      "cell_type": "code",
      "source": [
        "fig, ax = plt.subplots(figsize=(6, 6))             # Creates a grid representation using matplotlib\n",
        "ax.set_xticks(range(GRID_SIZE + 1))\n",
        "ax.set_yticks(range(GRID_SIZE + 1))\n",
        "ax.set_xticklabels([])\n",
        "ax.set_yticklabels([])\n",
        "ax.grid(True, which=\"major\", color=\"black\", linestyle=\"-\", linewidth=1)\n",
        "ax.invert_yaxis()\n",
        "\n",
        "# Color Mapping\n",
        "colors = {\n",
        "    \"S\": \"lightgrey\",   # Start\n",
        "    \"G\": \"lightgreen\",  # Goal\n",
        "    \"H\": \"lightcoral\",  # Hole\n",
        "    \"P\": \"orange\",      # Path\n",
        "    \"F\": \"lightblue\"    # Remaining Blocks\n",
        "}\n",
        "\n",
        "# Drawing the Grid with Labels\n",
        "for i in range(GRID_SIZE):\n",
        "    for j in range(GRID_SIZE):\n",
        "\n",
        "        if (i, j) == start:                # Labels for Gridblocks\n",
        "            label = \"S\"\n",
        "        elif (i, j) == goal:\n",
        "            label = \"G\"\n",
        "        elif (i, j) in holes:\n",
        "            label = \"H\"\n",
        "        elif (i, j) in path:\n",
        "            label = \"P\"\n",
        "        else:\n",
        "            label = \"F\"\n",
        "\n",
        "        ax.add_patch(plt.Rectangle((j, i), 1, 1, color=colors[label], ec=\"black\"))\n",
        "        ax.text(j + 0.5, i + 0.5, label, ha='center', va='center', fontsize=12, fontweight='bold', color='black')\n",
        "\n",
        "plt.title(\"Frozen Lake Pathfinding using Q-learning\")\n",
        "plt.show()"
      ],
      "metadata": {
        "id": "WvaYlztCNDtq",
        "colab": {
          "base_uri": "https://localhost:8080/",
          "height": 526
        },
        "outputId": "1e0e307c-7ead-47e1-9c24-fadb7314e93f"
      },
      "execution_count": 159,
      "outputs": [
        {
          "output_type": "display_data",
          "data": {
            "text/plain": [
              "<Figure size 600x600 with 1 Axes>"
            ],
            "image/png": "[encoded data removed]"
          },
          "metadata": {}
        }
      ]
    }
  ]
}